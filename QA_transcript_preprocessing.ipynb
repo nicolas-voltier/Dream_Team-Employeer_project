{
  "nbformat": 4,
  "nbformat_minor": 0,
  "metadata": {
    "colab": {
      "provenance": []
    },
    "kernelspec": {
      "name": "python3",
      "display_name": "Python 3"
    },
    "language_info": {
      "name": "python"
    }
  },
  "cells": [
    {
      "cell_type": "markdown",
      "source": [
        "# Setup and installs"
      ],
      "metadata": {
        "id": "_CI4LKZ_UYIH"
      }
    },
    {
      "cell_type": "code",
      "source": [
        "!pip -q install pypdf nltk spacy scikit-learn matplotlib wordcloud\n",
        "!pip -q install torch\n",
        "!pip install transformers==4.49.0 # version needs to be pinned"
      ],
      "metadata": {
        "id": "B7bw5v4czjNa"
      },
      "execution_count": null,
      "outputs": []
    },
    {
      "cell_type": "code",
      "source": [
        "import nltk, os, re, math, string, json\n",
        "nltk.download('punkt')\n",
        "nltk.download('vader_lexicon')\n",
        "nltk.download('punkt_tab')"
      ],
      "metadata": {
        "id": "atdy_3Q0zmuY"
      },
      "execution_count": null,
      "outputs": []
    },
    {
      "cell_type": "code",
      "execution_count": 20,
      "metadata": {
        "id": "iDPrleX1ULum"
      },
      "outputs": [],
      "source": [
        "import matplotlib.pyplot as plt\n",
        "from collections import Counter\n",
        "from nltk.tokenize import sent_tokenize, word_tokenize\n",
        "from sklearn.feature_extraction.text import TfidfVectorizer\n",
        "import torch\n",
        "from transformers import AutoModelForCausalLM, AutoTokenizer, pipeline, AutoProcessor\n",
        "import pandas as pd"
      ]
    },
    {
      "cell_type": "markdown",
      "source": [
        "# Load PDF"
      ],
      "metadata": {
        "id": "ER7KJWwJUVJs"
      }
    },
    {
      "cell_type": "code",
      "source": [
        "!pip install pdfplumber"
      ],
      "metadata": {
        "colab": {
          "base_uri": "https://localhost:8080/"
        },
        "id": "HZ7h-bOD2qZW",
        "outputId": "b12b6c6e-92f5-4d15-ef35-7c5be0367e18"
      },
      "execution_count": 2,
      "outputs": [
        {
          "output_type": "stream",
          "name": "stdout",
          "text": [
            "Collecting pdfplumber\n",
            "  Downloading pdfplumber-0.11.7-py3-none-any.whl.metadata (42 kB)\n",
            "\u001b[?25l     \u001b[90m━━━━━━━━━━━━━━━━━━━━━━━━━━━━━━━━━━━━━━━━\u001b[0m \u001b[32m0.0/42.8 kB\u001b[0m \u001b[31m?\u001b[0m eta \u001b[36m-:--:--\u001b[0m\r\u001b[2K     \u001b[90m━━━━━━━━━━━━━━━━━━━━━━━━━━━━━━━━━━━━━━━━\u001b[0m \u001b[32m42.8/42.8 kB\u001b[0m \u001b[31m2.4 MB/s\u001b[0m eta \u001b[36m0:00:00\u001b[0m\n",
            "\u001b[?25hCollecting pdfminer.six==20250506 (from pdfplumber)\n",
            "  Downloading pdfminer_six-20250506-py3-none-any.whl.metadata (4.2 kB)\n",
            "Requirement already satisfied: Pillow>=9.1 in /usr/local/lib/python3.12/dist-packages (from pdfplumber) (11.3.0)\n",
            "Collecting pypdfium2>=4.18.0 (from pdfplumber)\n",
            "  Downloading pypdfium2-4.30.0-py3-none-manylinux_2_17_x86_64.manylinux2014_x86_64.whl.metadata (48 kB)\n",
            "\u001b[2K     \u001b[90m━━━━━━━━━━━━━━━━━━━━━━━━━━━━━━━━━━━━━━━━\u001b[0m \u001b[32m48.5/48.5 kB\u001b[0m \u001b[31m3.5 MB/s\u001b[0m eta \u001b[36m0:00:00\u001b[0m\n",
            "\u001b[?25hRequirement already satisfied: charset-normalizer>=2.0.0 in /usr/local/lib/python3.12/dist-packages (from pdfminer.six==20250506->pdfplumber) (3.4.3)\n",
            "Requirement already satisfied: cryptography>=36.0.0 in /usr/local/lib/python3.12/dist-packages (from pdfminer.six==20250506->pdfplumber) (43.0.3)\n",
            "Requirement already satisfied: cffi>=1.12 in /usr/local/lib/python3.12/dist-packages (from cryptography>=36.0.0->pdfminer.six==20250506->pdfplumber) (1.17.1)\n",
            "Requirement already satisfied: pycparser in /usr/local/lib/python3.12/dist-packages (from cffi>=1.12->cryptography>=36.0.0->pdfminer.six==20250506->pdfplumber) (2.22)\n",
            "Downloading pdfplumber-0.11.7-py3-none-any.whl (60 kB)\n",
            "\u001b[2K   \u001b[90m━━━━━━━━━━━━━━━━━━━━━━━━━━━━━━━━━━━━━━━━\u001b[0m \u001b[32m60.0/60.0 kB\u001b[0m \u001b[31m4.5 MB/s\u001b[0m eta \u001b[36m0:00:00\u001b[0m\n",
            "\u001b[?25hDownloading pdfminer_six-20250506-py3-none-any.whl (5.6 MB)\n",
            "\u001b[2K   \u001b[90m━━━━━━━━━━━━━━━━━━━━━━━━━━━━━━━━━━━━━━━━\u001b[0m \u001b[32m5.6/5.6 MB\u001b[0m \u001b[31m73.3 MB/s\u001b[0m eta \u001b[36m0:00:00\u001b[0m\n",
            "\u001b[?25hDownloading pypdfium2-4.30.0-py3-none-manylinux_2_17_x86_64.manylinux2014_x86_64.whl (2.8 MB)\n",
            "\u001b[2K   \u001b[90m━━━━━━━━━━━━━━━━━━━━━━━━━━━━━━━━━━━━━━━━\u001b[0m \u001b[32m2.8/2.8 MB\u001b[0m \u001b[31m86.3 MB/s\u001b[0m eta \u001b[36m0:00:00\u001b[0m\n",
            "\u001b[?25hInstalling collected packages: pypdfium2, pdfminer.six, pdfplumber\n",
            "Successfully installed pdfminer.six-20250506 pdfplumber-0.11.7 pypdfium2-4.30.0\n"
          ]
        }
      ]
    },
    {
      "cell_type": "code",
      "source": [
        "import requests\n",
        "import pdfplumber\n",
        "\n",
        "# URL for PDF\n",
        "url = \"https://home.barclays/content/dam/home-barclays/documents/investor-relations/ResultAnnouncements/H12025Results/Q225-Q&A-Transcript.pdf\"\n",
        "pdf_file = \"barclays_q2_2025_qa.pdf\"\n",
        "\n",
        "# Download PDF\n",
        "response = requests.get(url)\n",
        "with open(pdf_file, \"wb\") as f:\n",
        "    f.write(response.content)\n",
        "\n",
        "# Read and extract\n",
        "all_text = \"\"\n",
        "with pdfplumber.open(pdf_file) as pdf:\n",
        "    for page in pdf.pages:\n",
        "        text = page.extract_text()\n",
        "        if text:\n",
        "            all_text += text + \"\\n\"\n",
        "\n",
        "# Save to txt\n",
        "with open(\"barclays_q2_2025_qa.txt\", \"w\", encoding=\"utf-8\") as f:\n",
        "    f.write(all_text)"
      ],
      "metadata": {
        "id": "KkgxRP8zUZ9w"
      },
      "execution_count": 3,
      "outputs": []
    },
    {
      "cell_type": "markdown",
      "source": [
        "# Extract separate questions and answers"
      ],
      "metadata": {
        "id": "_R3Q4aPGU23v"
      }
    },
    {
      "cell_type": "code",
      "source": [
        "# Regex to detect speaker names, with or without a comma, supporting hyphens, apostrophes, and initials\n",
        "name_pattern = re.compile(\n",
        "    r\"\"\"\n",
        "    ^                                   # start of line\n",
        "    (?:                                 # either initials OR normal first name\n",
        "        (?:[A-Z]\\.)+                    # one or more initials with dots, e.g., C.S.\n",
        "        |                               # OR\n",
        "        [A-Z][a-zA-Z'-]+                # normal first name\n",
        "    )\n",
        "    (?:\\s+[A-Z][a-zA-Z'-]+){1,3}        # at least one last name, optional 1-2 extra names\n",
        "    (?:,\\s*.+)?                          # optional comma + organization/function\n",
        "    (?<!\\.)$                             # line must NOT end with a period\n",
        "    \"\"\",\n",
        "    re.VERBOSE\n",
        ")\n",
        "\n",
        "# Function to split questions and answers\n",
        "def split_q_a(text):\n",
        "    speaker_text_list = []\n",
        "    current_speaker = None\n",
        "    current_lines = []\n",
        "\n",
        "    # Text for Barclays is formatted per line\n",
        "    for line in text.splitlines():\n",
        "        line = line.strip()\n",
        "        if not line:\n",
        "            continue\n",
        "        if re.match(r'^\\d+$', line):  # Page numbers\n",
        "            continue\n",
        "        if line.lower().startswith(\"investor relations\"):\n",
        "            continue\n",
        "\n",
        "        # If line matches name pattern and is not more than 10 words\n",
        "        if name_pattern.match(line) and len(line.split()) <= 10:\n",
        "            # Save last speaker\n",
        "            if current_speaker and current_lines:\n",
        "                speaker_text_list.append((current_speaker, \" \".join(current_lines)))\n",
        "            current_speaker = line\n",
        "            current_lines = []\n",
        "        elif current_speaker:\n",
        "            current_lines.append(line)\n",
        "\n",
        "    # Add last speaker\n",
        "    if current_speaker and current_lines:\n",
        "        speaker_text_list.append((current_speaker, \" \".join(current_lines)))\n",
        "\n",
        "    return speaker_text_list\n",
        "\n",
        "speaker_text_list = split_q_a(all_text)\n",
        "for s, t in speaker_text_list[:10]:\n",
        "    print(f\"Speaker: {s}\\nText: {t[:100]}...\\n\")"
      ],
      "metadata": {
        "colab": {
          "base_uri": "https://localhost:8080/"
        },
        "id": "fcjP2thhU6z_",
        "outputId": "e1f86dc5-b89a-46ba-e400-cffbb4e83b64"
      },
      "execution_count": 4,
      "outputs": [
        {
          "output_type": "stream",
          "name": "stdout",
          "text": [
            "Speaker: Alvaro Serrano, Morgan Stanley\n",
            "Text: Hi, good morning. A couple of questions, please. First of all, on capital and then one on the Invest...\n",
            "\n",
            "Speaker: Anna Cross\n",
            "Text: Good morning, Alvaro, thank you very much for kicking off the call for us. I'll take the first quest...\n",
            "\n",
            "Speaker: C.S. Venkatakrishnan\n",
            "Text: Yes. Thanks for the question, Alvaro. On the Investment Bank, let me give you a longer term view and...\n",
            "\n",
            "Speaker: Anna Cross\n",
            "Text: Thank you, Alvaro. Perhaps we can go to the next question, please....\n",
            "\n",
            "Speaker: Guy Stebbings, BNP Paribas Exane\n",
            "Text: Hi, morning there. Two questions, if I may. The first one was on Barclays UK, I was wondering if you...\n",
            "\n",
            "Speaker: Anna Cross\n",
            "Text: Thanks, Guy. Why don't I take both of those and I'm sure Venkat may add on the second. Let me start ...\n",
            "\n",
            "Speaker: C.S. Venkatakrishnan\n",
            "Text: Look, I'll just add at a broader macroeconomic level, it has been remarkable really, how resilient t...\n",
            "\n",
            "Speaker: Anna Cross\n",
            "Text: Okay, thank you, next question please....\n",
            "\n",
            "Speaker: Jason Napier, UBS\n",
            "Text: Good morning, Venkat and Anna, thanks for taking my questions. Two, please. The first, just focusing...\n",
            "\n",
            "Speaker: Anna Cross\n",
            "Text: Okay, thanks Jason. I'm going to start and then hand to Venkat. So we've retained and indeed repeate...\n",
            "\n"
          ]
        }
      ]
    },
    {
      "cell_type": "code",
      "source": [
        "# Function to determine if speaker is an analyst or executive\n",
        "def determine_analyst_exec(speaker_text_list, questionmark_threshold=0.8, top_turns_percent=0.3):\n",
        "\n",
        "    speaker_questionmark_counts = {}\n",
        "    speaker_stats = {}\n",
        "\n",
        "    # Count ? per speaker per block\n",
        "    for speaker, text in speaker_text_list:\n",
        "        questionmark_count = text.count('?')\n",
        "        speaker_questionmark_counts.setdefault(speaker, []).append(questionmark_count)\n",
        "\n",
        "    # Compute average question marks and number of turns\n",
        "    for speaker, counts in speaker_questionmark_counts.items():\n",
        "        avg_questionmark_count = sum(counts) / len(counts)\n",
        "        turns = len(counts)\n",
        "        speaker_stats[speaker] = {\"avg_qm\": avg_questionmark_count, \"turns\": turns}\n",
        "\n",
        "    # Determine turn threshold for top N%\n",
        "    all_turns = sorted([stats[\"turns\"] for stats in speaker_stats.values()], reverse=True)\n",
        "    top_n_index = int(len(all_turns) * top_turns_percent)\n",
        "    if top_n_index == 0:\n",
        "        top_turns_threshold = max(all_turns) + 1  # If few speakers, no one excluded\n",
        "    else:\n",
        "        top_turns_threshold = all_turns[top_n_index - 1]\n",
        "\n",
        "    analysts = []\n",
        "    executives = []\n",
        "\n",
        "    # Classify speakers\n",
        "    for speaker, stats in speaker_stats.items():\n",
        "        avg_qm = stats[\"avg_qm\"]\n",
        "        turns = stats[\"turns\"]\n",
        "        if avg_qm > questionmark_threshold and turns <= top_turns_threshold:\n",
        "            analysts.append(speaker)\n",
        "        elif turns > top_turns_threshold:\n",
        "            executives.append(speaker)\n",
        "\n",
        "    return analysts, executives\n",
        "\n",
        "analysts, executives = determine_analyst_exec(speaker_text_list)\n",
        "print(\"Analysts:\", analysts)\n",
        "print(\"Executives:\", executives)"
      ],
      "metadata": {
        "colab": {
          "base_uri": "https://localhost:8080/"
        },
        "id": "ipw4TNY1CXT6",
        "outputId": "08347498-4ae9-4284-d962-b799ce75fb8b"
      },
      "execution_count": 5,
      "outputs": [
        {
          "output_type": "stream",
          "name": "stdout",
          "text": [
            "Analysts: ['Alvaro Serrano, Morgan Stanley', 'Guy Stebbings, BNP Paribas Exane', 'Jason Napier, UBS', 'Rob Noble, Deutsche Bank', 'Chris Cant, Autonomous', 'Jonathan Pierce, Jefferies', 'Jonathan Pierce', 'Chris Hallam, Goldman Sachs', 'Andrew Coombs, Citigroup', 'Amit Goel, Mediobanca', 'Perlie Mong, Bank of America']\n",
            "Executives: ['Anna Cross', 'C.S. Venkatakrishnan']\n"
          ]
        }
      ]
    },
    {
      "cell_type": "code",
      "source": [
        "# Function to couple questions and answers\n",
        "def pair_questions_answers(speaker_text_list, analysts, executives):\n",
        "  qa_pairs = []\n",
        "  questioner = None\n",
        "  questions = None\n",
        "  answerers = []\n",
        "  answers = None\n",
        "\n",
        "  # For all pairs\n",
        "  for speaker, text in speaker_text_list:\n",
        "    if speaker in analysts:\n",
        "      if questioner != speaker and questioner is not None:\n",
        "        qa_pairs.append((questioner, questions, answerers, answers))\n",
        "        answerers = []\n",
        "        answers = None\n",
        "\n",
        "      questioner = speaker\n",
        "      questions = text\n",
        "\n",
        "    elif speaker in executives:\n",
        "      if speaker not in answerers:\n",
        "        answerers.append(speaker)\n",
        "      if answers is None:\n",
        "        answers = text\n",
        "      else:\n",
        "        answers += \" \" + text\n",
        "\n",
        "  # Add the last Q&A pair if it exists\n",
        "  if questioner is not None and (answerers or questions is not None):\n",
        "      qa_pairs.append((questioner, questions, answerers, answers))\n",
        "\n",
        "  return qa_pairs\n",
        "\n",
        "qa_pairs = pair_questions_answers(speaker_text_list, analysts, executives)\n",
        "\n",
        "for qa in qa_pairs[:5]:\n",
        "  print(f\"Questioner: {qa[0]}\\nQuestions: {qa[1]}\\nAnswerers: {qa[2]}\\nAnswers: {qa[3]}\\n\")"
      ],
      "metadata": {
        "colab": {
          "base_uri": "https://localhost:8080/"
        },
        "id": "HvCcmWkAIB73",
        "outputId": "8c48be75-2d9d-42fa-fe18-585e3335fce9"
      },
      "execution_count": 6,
      "outputs": [
        {
          "output_type": "stream",
          "name": "stdout",
          "text": [
            "Questioner: Alvaro Serrano, Morgan Stanley\n",
            "Questions: Hi, good morning. A couple of questions, please. First of all, on capital and then one on the Investment Bank. On capital, you are at 13.7% after the buyback. That’s a pretty comfortable position given [your 13-14% range]. [Fundamental Review of the Trading Book (FRTB)] has been delayed, when you think about your capital position versus the over £10 billion distribution, and obviously M&A options that have appeared in the press, how do you see upside to distribution versus additional firepower for M&A? Whether that's a portfolio in the US or something else, if you can maybe walk us through your thinking. And second, on the Investment Bank, obviously Trading, you have explained Anna, very strong. Clearly doing better than US peers and that's worked very well, but Investment Banking fees not so well. So in a world where we seem to be heading, famous last words, to a low volatility environment, I know you've touched on it at the end of the quarter, but if you can elaborate, if the low volatility banking fees picking up thesis has held at the later part of the quarter, as we look in the rest of the year, can we still expect sort of decent growth in a low volatility environment, i.e. Banking fees making up for whatever sort of normalisation of Global Markets we might see? Thank you.\n",
            "Answerers: ['Anna Cross', 'C.S. Venkatakrishnan']\n",
            "Answers: Good morning, Alvaro, thank you very much for kicking off the call for us. I'll take the first question and then I'm going to hand to Venkat. Our capital position just reflects the execution of the strategy. The strategy is designed to create higher and more consistent returns, which in turn allows us to return more to shareholders and indeed invest in the business, and that's really what you're seeing here. It's exactly what we expected. As you call out 13.7% post the buyback, we indicated at the beginning of the year that, actually, we expected to operate towards the upper half of our capital range just because of the Pillar 2 that we're carrying in advance of the US model being implemented. So we're exactly where we expected to be. And the broader aspects of your question, I would say the capital hierarchy remains completely intact. So, we're generating higher levels of capital from more consistent and higher returns. And our priorities are: number one, of course, regulatory. Number two, distributions. Those distributions are up 21% year-on-year. The buyback is up 33% year-on-year, and we said that the distributions should be progressive in 2025. That's what you're seeing, and our guidance and target for the three years is at least £10 [billion]. So, that all remains intact. Finally, continuing to invest in the UK businesses. We do believe our plan is an organic one, and you can see at the halfway point, we put down £17 billion of the £30 billion RWAs that we are planning to [deploy]. So, that's how we feel about capital, really no change, just the execution of the strategy. Venkat? Yes. Thanks for the question, Alvaro. On the Investment Bank, let me give you a longer term view and then I'll come to your very specific question. So, on the Investment Bank, over the last six quarters, in fact since before then, we've been obviously investing in our structural capabilities. What you see in the results in the Investment Bank is a combination of deep structural improvements, which we think are sustainable over the long run, and then cyclical aspects which benefited the [Markets] business and may have been a headwind for the Banking business. On the structural side, you're seeing deeper client engagement. One of the statistics we put out was we're a number six Investment Bank. Of our top 100 clients, who are we in the top five with? That number was 49 before the plan started, our target is 70, we're at 60 now. You can see it in the market shares which we have in Global Markets. Financing is up 23% year-on-year in US dollars. Our three focus areas are up by one percentage point, 2024 versus 2023, and that's the latest data we have. And then I mentioned the top five client [rankings]. And then when you look at Banking, capital discipline has really taken root, return on risk- weighted assets is improving and market share has improved, although a little slower this year. So that is the structural benefit that we see, and you can see it in the results. When you look at the [Global Markets] performance versus consensus, for six quarters now we've beaten consensus. The size of that beat has been growing to about £300 million this quarter. So I think what you're seeing is the combination there of both structural and cyclical. Let me come to cyclical. Cyclical in the Markets business has been helped, obviously, by volatility. And that's been a tailwind. And in Banking, as you point out, as decision-making has slowed, that volatility has been a bit of a headwind. Now, looking forward, we are seeing that headwind in Banking dissipating as there is more deal activity and we expect that to continue. As for Markets, I think a lot of the positioning that's taken place in the last six months has been in reaction to immediate volatility. So, what I would call shorter-term risk management and that has obviously delayed longer-term decision-making, which drives Banking. Now, though, in the Markets side, you could see more longer-term positioning and decision-making as people take a clearer view on different asset classes and rotation within asset classes. I hope and expect, given all the structural improvements I outlined, that we will benefit from that. Thank you, Alvaro. Perhaps we can go to the next question, please.\n",
            "\n",
            "Questioner: Guy Stebbings, BNP Paribas Exane\n",
            "Questions: Hi, morning there. Two questions, if I may. The first one was on Barclays UK, I was wondering if you could expand on this historic swap maturity impact that landed in H1, that comes out in H2 and should support expansion in the product margin in the second half. I don't know if you can frame the size of that, perhaps. Then attached to that, looking at your full-year guide and talk to quarter-on-quarter growth, it looks like we're getting to an exit quarterly run rate of about £8 billion or so on the NII for Barclays UK. Consensus is at £8.3 billion for next year, it doesn't feel overly challenging versus that exit rate. So can we infer that you're comfortable with market expectations next year, perhaps even some upside, despite the miss in the second quarter? The second question was on the US Consumer business on the impairment side, encouraging to see that step down in impairments in Q2 and the lower 30-day delinquencies. Perhaps I can invite you to comment on how you think about impairments in the second half and beyond in that book. I mean there had been some scepticism that the 2026 impairment guide could be challenging to get to 400 basis points in the long run, so are you more confident on delivery there today, than perhaps three, four months ago? Thank you.\n",
            "Answerers: ['Anna Cross', 'C.S. Venkatakrishnan']\n",
            "Answers: Thanks, Guy. Why don't I take both of those and I'm sure Venkat may add on the second. Let me start with BUK NII in totality. So we are confident in the greater than £7.6 billion and when we gave you that guidance we were clearly aware of the swap matter that you're talking about here, so the phasing is panning out as we expected it to. Therefore, that means by definition, we're expecting income to be in excess of £3.9 billion in the second half of the year, and within that, I would just add for Q4 to be higher than Q3 and I'll come back to the second part of your question in a minute. So, what really drives that? There's clearly the things we talked about which is the structural hedge, loan growth, so you can see the momentum in BUK. The other thing I would just call out as a product margin matter is, it's not just this swap effect but it's also the fact we expect to see maturing promotional cards balances in the second half of the year and obviously we expect to see deposit trends to continue to mitigate. This swap point, it's a historic matter, it's an accounting point and it's accounting timing. It relates to the maturity profile of historic swaps versus how we recognise swaps against products internally, it's purely timing. To try and put some quantum around it, it's probably most of the consensus miss in Q2 and it was relatively similar across Q1 and Q2. It's a H1 versus H2 point, it's now behind us, it's not operational, purely accounting timing. From 2022 onwards, we're now booking our swaps in a different way, so I'm not expecting this will recur. In terms of the jumping off point, as I said in my prepared remarks, please use H2 as a jumping off point for NII next year, and within that, note the Q3 and Q4 momentum. It's a bit too early to talk about explicit numbers or consensus for next year, but please note from this our confidence in terms of building NII momentum, not just in meeting 2025 guidance, but underpinning RoTE in 2026 and having momentum even beyond that point. Let me now come to US Consumer impairment. It's fallen quarter-on-quarter, as we would have expected it to seasonally, and you can see that 30-day delinquencies are down 20 basis points, so it's performing well. Interestingly, within that, the lowest three FICO bands are also down year-on-year in delinquencies, which I see as encouraging. What we expect in the second half is obviously normal seasonal trends. You tend to see a build towards the back end of the year, just as holiday spending picks up. The only other notable thing I would call out is in Q3, we onboard the General Motors back book. You should expect to see £100 million day one charge then. And then you're going to see some migration effects, probably about £50 million per quarter for a few quarters, just because we onboard things at stage one. Overall, within the context of the group guidance of 50 to 60 basis points, we're very comfortable. Venkat, anything you want to add? Look, I'll just add at a broader macroeconomic level, it has been remarkable really, how resilient the US economy has been, and indeed the UK economy, to everything that's going on [with] tariffs. Obviously, there is inflationary pressure, but employment remains very strong. The [Federal Reserve] is having a meeting tomorrow, but it's not cut [rates] once so far this year. I think we have to see how that plays out, but I would say at a macroeconomic level, there is room for hope in the strength of the economy, especially as the frequency of tariff announcements and the amplitude of tariff changes reduce, both frequency and amplitude. Okay, thank you, next question please.\n",
            "\n",
            "Questioner: Jason Napier, UBS\n",
            "Questions: Good morning, Venkat and Anna, thanks for taking my questions. Two, please. The first, just focusing on the return targets for 2026. I guess at the halfway point for the strategic plan, the bank's doing better than expected. As Venkat, you mentioned, you've beaten in [Global Markets] six quarters in a row and consensus is pretty close to your £30 billion revenue target for next year. But the market is well over £1 billion below your expectations for the Investment Bank. So I wanted to invite you to sort of give us your thinking on that £30 billion guide. Is it still that number because you're not in the habit of refreshing it every quarter? Is it that the cyclical tailwinds in the IB that you've enjoyed so far you think are a bit of a headwind from here? Because if we put in your IB number, if we add that to consensus, you're a 13% RoTE company, not the sort of more than 12% at which we seem to be a little bit stuck. Secondly, perhaps just as a follow on, consensus beyond 2026 has got the bank growing revenues by 3% and costs by 2%. I wonder whether just at a footprint level, do you think that makes sense? Are the markets in which you're playing growing that little in the next few years? Thanks very much.\n",
            "Answerers: ['Anna Cross', 'C.S. Venkatakrishnan']\n",
            "Answers: Okay, thanks Jason. I'm going to start and then hand to Venkat. So we've retained and indeed repeated our targets for 2025 and for 2026.And when we step back, we're clearly on a strong platform here. At the end of the first half of this year, we're sitting on a 13% RoTE and we clearly got momentum across all five of the businesses. Really, this is what the strategy is about, so we're not surprised by these results. Our objective was to drive income momentum and income stability, whilst holding costs and capital discipline. That's exactly what we're doing here and you can see that in the results. So clearly, what it does is it gives us confidence for the current year. But even more than that, it gives us confidence for 2026 and beyond as a RoTE matter. And income-wise, that being a specific part of your question, what you're seeing here is clear NII momentum, as I covered in the previous conversation. Loan growth will underpin that. You're going to see the maturation of cards balances that will underpin that. You can see the structural hedge underpinning that. Elsewhere in the bank, you can see the progress that we are making structurally in the IB, both as a revenue matter and in terms of a RoTE matter. So, we believe that with each passing quarter, clearly we’re more confident and hopefully the market becomes so in that delivery. But it's beyond 2025 and 2026, hopefully you're starting to see a pattern. The strategy is not hard. As I said, it's about driving income momentum and stability, keeping costs controlled, and being really disciplined about where we allocate our capital. We're not going to suddenly stop doing that at the end of 2026. From our perspective, we expect to continue to drive that level of momentum. Venkat, you may want to add. Yes. Look, Jason, you've asked a question or two questions, which really hit at the heart of what our strategy and our strategic plan is. So one is, how well are the businesses performing and how are you getting that better performance? As Anna just said, there's an important part that is structural, we're just trying to run the place much better, with deeper client engagement, greater efficiency in cost, greater revenue growth, strong risk controls. We're very happy with the numbers we've seen over the first six quarters, we think the structural underpinnings, as Anna said, give us expectations to carry that forward, not just into the next six quarters, but beyond that. So one part is running the bank better. The second part comes to the footprint, as you put it, which is what are the businesses and where are they? Now, a large at scale bank like us should grow at top-line roughly at the nominal rate of the economies in which we are. Both in the UK and in the US, that nominal rate, the US is running a 1% GDP growth, real Q4'25 to Q4’24, it's probably going to be 2% next year, with inflation around 4%, call it a 4.5% to 5% nominal growth, similar in the UK. So you would expect us, absent of capturing market share, to grow at roughly that level, is what I would think in the long run a good bank should do. That's not a target, that's not a forecast, it's just saying to you that when you think about how our footprint is, that's a reasonable assumption to start with. Okay thank you Jason. Perhaps we can go to the next question, please.\n",
            "\n",
            "Questioner: Rob Noble, Deutsche Bank\n",
            "Questions: Hi, thanks for taking my questions. Can I just ask on the promotional cards, aren’t they booked at effective interest rates, so why would you get a pickup in H2 from them? And if you could just elaborate on the size of the balances on promotional, how much is rolling and what the [Effective Interest Rate] is? Secondly, I think there's been sort of one quarter’s growth in the last eight in the UK deposit book, and I presume a couple of years ago that wasn't the plan. So what's not working there, what could be improved to give you the confidence for it to be stable going forward. Lastly, how big is the Kensington book now and what is it growing at, and who are you taking share from in that business?\n",
            "Answerers: ['Anna Cross']\n",
            "Answers: Okay, thanks, Rob. I will take those. I'm not going to go into the details of [Effective Interest Rate] assumptions. What I would say is that when we do reflect effective interest rates across our cards books, we do so conservatively, as we do across all of our businesses. Typically, what we're doing there is we're spreading the up-front fee, but we're also reflecting a bit of post-promotional balances. Actually, what we're seeing is the 2024 cohort maturing nicely and that's really what we're calling out here. In terms of UK deposits, we're broadly following the trends of our peers. Current accounts market share is being maintained. You can see that we are not encountering anything unexpected, simply because we're rolling 100% of the hedge. Our planning assumption is 90%, we rolled 100% of it in the second quarter, so that tells you that things are broadly panning out. We continue to see some deposit migration, but the ISA season aside, that continues to just normalise. So nothing unexpected here. On Kensington, we're seeing now high loan-to-value mortgages occupy about 25% of our flow. That's up from around 15% a couple of years back. I won't call out Kensington balances specifically, but they are being very helpful in helping us address the full scale, the full breadth of the mortgage market, which is why we are now taking gross share a little ahead of stock. Retention is very good and what's notable about Kensington is the margins are much richer. They're about, on equivalent products, they're about four times the scale of a normal BUK mortgage margin. So we're really pleased with its performance and it's fully integrated now into the business. Okay. Thank you. Perhaps we can go to the next question, please.\n",
            "\n",
            "Questioner: Chris Cant, Autonomous\n",
            "Questions: Good morning, thanks for taking the questions. I had a couple on regulation, please. So firstly, thinking about what's happening in the US. If we get these [Enhanced Supplementary Leverage Ratio (eSLR)] changes and your US competitors have effectively significantly more leverage balance sheet capacity handed to them and they seek to deploy that in markets. How should we think about the effect of that on the IB growth you've seen over the last five, six years, particularly around Financing? Do you see that as a competitive threat and what can you do about it if those peers now have more capacity to muscle in? With regards to [Comprehensive Capital Analysis and Review (CCAR)] and the US Consumer business, the reasoning you've given for retaining that business in the past is partly because it helps your CCAR performance. Obviously, CCAR is getting more benign. Do you now feel less compelled to retain that business? What is the argument for keeping that? On the UK side of the fence, if I could just invite you to comment on what, if any, outcomes we might expect from the current UK capital framework review that's happening in the background. Are you expecting that to be a positive, and Venkat, I know you've expressed some views contrary to your peers at other banks around the ring-fencing regime. What are your updated thoughts given the changes we may see there? Thank you.\n",
            "Answerers: ['Anna Cross', 'C.S. Venkatakrishnan']\n",
            "Answers: Thanks, Chris. So I will start on the first two of those and then I'll hand to Venkat for the third point on the UK capital framework. Look, on SLR, we note peer comments. We're confident in our ability to continue to grow our Prime business and indeed our Fixed Income Financing business. We're seeing that continue, good balance growth, good spreads and actually expanding into Asia, which is relatively new for us. So very much open for business and confident in our ability to grow, and really what's underpinning that is a couple of things. Firstly, as we look at our US peers, it looks like the leverage is not binding for all right now. So this may or may not make a significant amount of difference. Secondly, we look forward to what the [Financial Policy Committee (FPC)] might do in the UK as it looks at the framework more holistically, as you point out, so no specific concerns. On CCAR, Barclays in the US typically has a good CCAR result and has exactly the same this year. A low point of 10.8%, a stress buffer of 3.3%. And we still see that diversified banks across that CCAR stack get a better result. That is very clear. There were some aspects of this year's CCAR stress test where the market shock component was a little lower than we might have previously seen, we can't always anticipate that that will be the case. So, it’s important that we don't react to one stress test in isolation. Just stepping back, this is a business that we believe we can improve the returns on. You can see that we believe we can get the returns not just to be in line with the Group, but more towards mid-teens. And it offers, income and geographic diversification, as well as the particular capital efficiency point. So that's how we feel about CCAR. Venkat? Yes. Moving to the UK, first of all, I welcome the broader capital framework review that was announced recently. And I welcome it in two ways. One is it's an important topic, and the second is it's looking at the entirety of it, which is not just capital rules itself, but stress testing and everything that goes into the final number. The way I think about it is that capital and capital regulation is an important part of a healthy banking system and of growth, and it is what you do to run a robust banking system. The ring-fencing is an important bedrock of deposit protection, and what it helps is with the so- called gone concern. If a bank has a problem like Icelandic banks did in 2007-08, then how do you make sure that depositors get their deposits back over and above the protection scheme? And what can you do in terms of the assets that are attached to those deposits? The Governor of the Bank of England a few weeks ago spoke at the Treasury Select Committee and he made a point that about 99% of assets from ring-fence banks are deployed within the UK and 32% of the corresponding assets from non-ringfence banks are deployed in the UK. That's the illustration of the problem. So that's why I continue to believe strongly in the maintenance and sustenance of that ring-fence as it is structured. I mean, let's see what comes out of the government review, but that's my view, certainly. And then on capital, as I said, that is part of growing the economy and growing the banking system. Now, the Governor made another point last week at the Treasury Select Committee where he said there's no trade-off between financial stability and growth. He's absolutely right. Financial stability is a [inaudible]. It's a necessity, but not all regulation necessarily contributes to financial stability and that's where the debate is to be had. Which regulation is excessive, superfluous, gilding the lily, in the whole capital framework? And can you relax some of that regulation and improve growth? I'm optimistic for those outcomes. Thank you Chris, perhaps we can go to the next question please.\n",
            "\n"
          ]
        }
      ]
    },
    {
      "cell_type": "code",
      "source": [
        "print(f\"Number of Q&A pairs: {len(qa_pairs)}\")"
      ],
      "metadata": {
        "colab": {
          "base_uri": "https://localhost:8080/"
        },
        "id": "K4D85Z2wTk7n",
        "outputId": "7114a83e-ddd1-462e-a0db-4fe583dc7f7c"
      },
      "execution_count": 7,
      "outputs": [
        {
          "output_type": "stream",
          "name": "stdout",
          "text": [
            "Number of Q&A pairs: 11\n"
          ]
        }
      ]
    },
    {
      "cell_type": "code",
      "source": [
        "!pip install openai"
      ],
      "metadata": {
        "colab": {
          "base_uri": "https://localhost:8080/"
        },
        "id": "uhLwimmPELYm",
        "outputId": "66256a0d-ce1d-4f22-e4ef-8b297cc23b17"
      },
      "execution_count": 8,
      "outputs": [
        {
          "output_type": "stream",
          "name": "stdout",
          "text": [
            "Requirement already satisfied: openai in /usr/local/lib/python3.12/dist-packages (1.106.0)\n",
            "Requirement already satisfied: anyio<5,>=3.5.0 in /usr/local/lib/python3.12/dist-packages (from openai) (4.10.0)\n",
            "Requirement already satisfied: distro<2,>=1.7.0 in /usr/local/lib/python3.12/dist-packages (from openai) (1.9.0)\n",
            "Requirement already satisfied: httpx<1,>=0.23.0 in /usr/local/lib/python3.12/dist-packages (from openai) (0.28.1)\n",
            "Requirement already satisfied: jiter<1,>=0.4.0 in /usr/local/lib/python3.12/dist-packages (from openai) (0.10.0)\n",
            "Requirement already satisfied: pydantic<3,>=1.9.0 in /usr/local/lib/python3.12/dist-packages (from openai) (2.11.7)\n",
            "Requirement already satisfied: sniffio in /usr/local/lib/python3.12/dist-packages (from openai) (1.3.1)\n",
            "Requirement already satisfied: tqdm>4 in /usr/local/lib/python3.12/dist-packages (from openai) (4.67.1)\n",
            "Requirement already satisfied: typing-extensions<5,>=4.11 in /usr/local/lib/python3.12/dist-packages (from openai) (4.15.0)\n",
            "Requirement already satisfied: idna>=2.8 in /usr/local/lib/python3.12/dist-packages (from anyio<5,>=3.5.0->openai) (3.10)\n",
            "Requirement already satisfied: certifi in /usr/local/lib/python3.12/dist-packages (from httpx<1,>=0.23.0->openai) (2025.8.3)\n",
            "Requirement already satisfied: httpcore==1.* in /usr/local/lib/python3.12/dist-packages (from httpx<1,>=0.23.0->openai) (1.0.9)\n",
            "Requirement already satisfied: h11>=0.16 in /usr/local/lib/python3.12/dist-packages (from httpcore==1.*->httpx<1,>=0.23.0->openai) (0.16.0)\n",
            "Requirement already satisfied: annotated-types>=0.6.0 in /usr/local/lib/python3.12/dist-packages (from pydantic<3,>=1.9.0->openai) (0.7.0)\n",
            "Requirement already satisfied: pydantic-core==2.33.2 in /usr/local/lib/python3.12/dist-packages (from pydantic<3,>=1.9.0->openai) (2.33.2)\n",
            "Requirement already satisfied: typing-inspection>=0.4.0 in /usr/local/lib/python3.12/dist-packages (from pydantic<3,>=1.9.0->openai) (0.4.1)\n"
          ]
        }
      ]
    },
    {
      "cell_type": "code",
      "source": [
        "from openai import OpenAI\n",
        "\n",
        "# Specify personal key\n",
        "client = OpenAI(\n",
        "  api_key=\"\"\n",
        ")"
      ],
      "metadata": {
        "id": "sIxbMLIOGz7B"
      },
      "execution_count": 9,
      "outputs": []
    },
    {
      "cell_type": "code",
      "source": [
        "# Function to extract questions from text possibly containing multiple questions\n",
        "def extract_questions_answers(questions, answers):\n",
        "  # Prompt to instruct the model\n",
        "  prompt = f\"\"\"\n",
        "  Extract each distinct question from the following question transcript.\n",
        "  Keep multi-sentence questions grouped together so that the supporting context remains intact.\n",
        "\n",
        "  Then extract the answers given to the extracted questions from the following answer transcript.\n",
        "  Keep multi-sentence answers grouped together so that the supporting context remains intact.\n",
        "  If a question is not answered, state 'NOT ANSWERED'.\n",
        "\n",
        "  For each [Question, Answer] pair, also assign a numerical score between 0 and 1 with 1 decimal for how directly the answer addresses the question where a score of 1 means the question was fully answered and a score of 0 means the question was fully avoided.\n",
        "\n",
        "  Return your response in **strict Python list format**:\n",
        "\n",
        "  [\n",
        "    ['question 1', 'answer 1', answer_score],\n",
        "    ['question 2', 'answer 2', answer_score],\n",
        "    ...\n",
        "  ]\n",
        "\n",
        "  Question transcript:\n",
        "  {questions}\n",
        "\n",
        "  Answer transcript:\n",
        "  {answers}\n",
        "  \"\"\"\n",
        "\n",
        "  # Call Open AI model\n",
        "  response = client.chat.completions.create(\n",
        "      model=\"gpt-5-mini\",\n",
        "      messages=[\n",
        "          {\"role\": \"system\", \"content\": \"You are an assistant that extracts and matches questions and answers from Q&A transcripts, and checks to which extent the question was answered or avoided.\"},\n",
        "          {\"role\": \"user\", \"content\": prompt}\n",
        "      ]\n",
        "  )\n",
        "  return response.choices[0].message.content"
      ],
      "metadata": {
        "id": "PiRugiWsER-2"
      },
      "execution_count": 33,
      "outputs": []
    },
    {
      "cell_type": "code",
      "source": [
        "# Function to check question orientation and theme\n",
        "def check_question_properties(question):\n",
        "  prompt = f\"\"\"\n",
        "  Classify the following question along two dimensions:\n",
        "\n",
        "  1. Orientation:\n",
        "      - 'Past' → asking about past or current performance\n",
        "      - 'Future' → asking about guidance, expectations, or outlook\n",
        "      - 'Mixed' → contains both past and future elements\n",
        "\n",
        "  2. Theme:\n",
        "      Choose one from the following:\n",
        "      - 'Profitability'\n",
        "      - 'Capital & Liquidity'\n",
        "      - 'Macro & Geopolitical influences'\n",
        "      - 'Regulatory & Legal'\n",
        "      - 'Risk management'\n",
        "      - 'Technology & Innovation'\n",
        "      - 'Sustainability'\n",
        "      - 'Strategy & Management'\n",
        "      - 'Other' (if none apply)\n",
        "\n",
        "  Return your response in **strict Python list format**:\n",
        "  ['orientation', 'theme']\n",
        "\n",
        "  Question:\n",
        "  {question}\n",
        "  \"\"\"\n",
        "\n",
        "  # Call Open AI model\n",
        "  response = client.chat.completions.create(\n",
        "      model=\"gpt-5-nano\",\n",
        "      messages=[\n",
        "          {\"role\": \"system\", \"content\": \"You are an assistant that classifies financial Q&A questions.\"},\n",
        "          {\"role\": \"user\", \"content\": prompt}\n",
        "      ]\n",
        "  )\n",
        "  return response.choices[0].message.content"
      ],
      "metadata": {
        "id": "o9n9uLqopN35"
      },
      "execution_count": 34,
      "outputs": []
    },
    {
      "cell_type": "code",
      "source": [
        "import json\n",
        "import ast"
      ],
      "metadata": {
        "id": "6NAac0giu9us"
      },
      "execution_count": 14,
      "outputs": []
    },
    {
      "cell_type": "code",
      "source": [
        "# Extract all questions and answers\n",
        "questions = []\n",
        "answers = []\n",
        "answer_scores = []\n",
        "\n",
        "# For all extracted pairs\n",
        "for i, pair in enumerate(qa_pairs):\n",
        "  LLM_output_str = extract_questions_answers(pair[1], pair[3])\n",
        "\n",
        "  try:\n",
        "    # Safely evaluate the string to a Python list\n",
        "    LLM_output_list = ast.literal_eval(LLM_output_str)\n",
        "\n",
        "    # Check if the evaluated output is a list and process it\n",
        "    if isinstance(LLM_output_list, list):\n",
        "      for item in LLM_output_list:\n",
        "        # Check if each item is a list with at least three elements\n",
        "        if isinstance(item, list) and len(item) >= 3:\n",
        "          questions.append(item[0])\n",
        "          answers.append(item[1])\n",
        "          answer_scores.append(item[2])\n",
        "        else:\n",
        "          print(f\"Skipping invalid item in LLM output: {item}\")\n",
        "      print(f\"Processed block: {i+1} of {len(qa_pairs)}, extracted {len(LLM_output_list)} questions and answers.\")\n",
        "    else:\n",
        "      print(f\"LLM output is not a list: {LLM_output_str}\")\n",
        "\n",
        "  except (ValueError, SyntaxError) as e:\n",
        "    print(f\"Could not parse LLM output string: {LLM_output_str} - Error: {e}\")\n",
        "\n",
        "\n",
        "# Store questions and answers and scores in file and combine into list of dicts\n",
        "qna_data = [{\"question\": q, \"answer\": a, \"answer_score\": s} for q, a, s in zip(questions, answers, answer_scores)]\n",
        "\n",
        "# Save\n",
        "with open(\"qna_data.json\", \"w\", encoding=\"utf-8\") as f:\n",
        "    json.dump(qna_data, f, ensure_ascii=False, indent=2)"
      ],
      "metadata": {
        "colab": {
          "base_uri": "https://localhost:8080/"
        },
        "id": "LJN6vOtoMBE3",
        "outputId": "4229527f-8f46-49ca-f40b-50e79e1b9fc7"
      },
      "execution_count": 35,
      "outputs": [
        {
          "output_type": "stream",
          "name": "stdout",
          "text": [
            "Processed block: 1 of 11, extracted 2 questions and answers.\n",
            "Processed block: 2 of 11, extracted 2 questions and answers.\n",
            "Processed block: 3 of 11, extracted 2 questions and answers.\n",
            "Processed block: 4 of 11, extracted 4 questions and answers.\n",
            "Processed block: 5 of 11, extracted 3 questions and answers.\n",
            "Processed block: 6 of 11, extracted 2 questions and answers.\n",
            "Processed block: 7 of 11, extracted 1 questions and answers.\n",
            "Processed block: 8 of 11, extracted 2 questions and answers.\n",
            "Processed block: 9 of 11, extracted 2 questions and answers.\n",
            "Processed block: 10 of 11, extracted 2 questions and answers.\n",
            "Processed block: 11 of 11, extracted 2 questions and answers.\n"
          ]
        }
      ]
    },
    {
      "cell_type": "code",
      "source": [
        "# Load data\n",
        "with open(\"qna_data.json\", \"r\", encoding=\"utf-8\") as f:\n",
        "    loaded_qna = json.load(f)\n",
        "\n",
        "# Print separate items\n",
        "print(loaded_qna[0][\"question\"])\n",
        "print(loaded_qna[0][\"answer\"])\n",
        "print(loaded_qna[0][\"answer_score\"])"
      ],
      "metadata": {
        "colab": {
          "base_uri": "https://localhost:8080/"
        },
        "id": "LqfM82rTNdCw",
        "outputId": "440600ff-31b0-4778-8c17-897af2b64b99"
      },
      "execution_count": 36,
      "outputs": [
        {
          "output_type": "stream",
          "name": "stdout",
          "text": [
            "Hi, good morning. A couple of questions, please. First of all, on capital and then one on the Investment Bank. On capital, you are at 13.7% after the buyback. That’s a pretty comfortable position given [your 13-14% range]. [Fundamental Review of the Trading Book (FRTB)] has been delayed, when you think about your capital position versus the over £10 billion distribution, and obviously M&A options that have appeared in the press, how do you see upside to distribution versus additional firepower for M&A? Whether that's a portfolio in the US or something else, if you can maybe walk us through your thinking.\n",
            "Good morning, Alvaro, thank you very much for kicking off the call for us. I'll take the first question and then I'm going to hand to Venkat. Our capital position just reflects the execution of the strategy. The strategy is designed to create higher and more consistent returns, which in turn allows us to return more to shareholders and indeed invest in the business, and that's really what you're seeing here. It's exactly what we expected. As you call out 13.7% post the buyback, we indicated at the beginning of the year that, actually, we expected to operate towards the upper half of our capital range just because of the Pillar 2 that we're carrying in advance of the US model being implemented. So we're exactly where we expected to be. And the broader aspects of your question, I would say the capital hierarchy remains completely intact. So, we're generating higher levels of capital from more consistent and higher returns. And our priorities are: number one, of course, regulatory. Number two, distributions. Those distributions are up 21% year-on-year. The buyback is up 33% year-on-year, and we said that the distributions should be progressive in 2025. That's what you're seeing, and our guidance and target for the three years is at least £10 [billion]. So, that all remains intact. Finally, continuing to invest in the UK businesses. We do believe our plan is an organic one, and you can see at the halfway point, we put down £17 billion of the £30 billion RWAs that we are planning to [deploy]. So, that's how we feel about capital, really no change, just the execution of the strategy.\n",
            "0.8\n"
          ]
        }
      ]
    },
    {
      "cell_type": "code",
      "source": [
        "# Check the properties of every question in the data and store\n",
        "for question in loaded_qna:\n",
        "  question_properties = check_question_properties(question[\"question\"])\n",
        "\n",
        "  # Check if list format\n",
        "  try:\n",
        "    question_properties_list = ast.literal_eval(question_properties)\n",
        "\n",
        "    if isinstance(question_properties_list, list) and len(question_properties_list) == 2:\n",
        "      question[\"orientation\"] = question_properties_list[0]\n",
        "      question[\"theme\"] = question_properties_list[1]\n",
        "      print(f\"Processed question: {question['question']}\")\n",
        "    else:\n",
        "      print(f\"Skipping invalid item in LLM output: {question_properties_list}\")\n",
        "\n",
        "  except (ValueError, SyntaxError) as e:\n",
        "    print(f\"Could not parse LLM output string: {question_properties} - Error: {e}\")\n",
        "\n",
        "\n",
        "# Save file\n",
        "with open(\"qna_data.json\", \"w\", encoding=\"utf-8\") as f:\n",
        "    json.dump(loaded_qna, f, ensure_ascii=False, indent=2)"
      ],
      "metadata": {
        "colab": {
          "base_uri": "https://localhost:8080/"
        },
        "id": "x-gSX4RsrgHS",
        "outputId": "f3ad70a0-a3af-4da2-8664-ebd4c38daa43"
      },
      "execution_count": 37,
      "outputs": [
        {
          "output_type": "stream",
          "name": "stdout",
          "text": [
            "Processed question: Hi, good morning. A couple of questions, please. First of all, on capital and then one on the Investment Bank. On capital, you are at 13.7% after the buyback. That’s a pretty comfortable position given [your 13-14% range]. [Fundamental Review of the Trading Book (FRTB)] has been delayed, when you think about your capital position versus the over £10 billion distribution, and obviously M&A options that have appeared in the press, how do you see upside to distribution versus additional firepower for M&A? Whether that's a portfolio in the US or something else, if you can maybe walk us through your thinking.\n",
            "Processed question: And second, on the Investment Bank, obviously Trading, you have explained Anna, very strong. Clearly doing better than US peers and that's worked very well, but Investment Banking fees not so well. So in a world where we seem to be heading, famous last words, to a low volatility environment, I know you've touched on it at the end of the quarter, but if you can elaborate, if the low volatility banking fees picking up thesis has held at the later part of the quarter, as we look in the rest of the year, can we still expect sort of decent growth in a low volatility environment, i.e. Banking fees making up for whatever sort of normalisation of Global Markets we might see? Thank you.\n",
            "Processed question: The first one was on Barclays UK, I was wondering if you could expand on this historic swap maturity impact that landed in H1, that comes out in H2 and should support expansion in the product margin in the second half. I don't know if you can frame the size of that, perhaps. Then attached to that, looking at your full-year guide and talk to quarter-on-quarter growth, it looks like we're getting to an exit quarterly run rate of about £8 billion or so on the NII for Barclays UK. Consensus is at £8.3 billion for next year, it doesn't feel overly challenging versus that exit rate. So can we infer that you're comfortable with market expectations next year, perhaps even some upside, despite the miss in the second quarter?\n",
            "Processed question: The second question was on the US Consumer business on the impairment side, encouraging to see that step down in impairments in Q2 and the lower 30-day delinquencies. Perhaps I can invite you to comment on how you think about impairments in the second half and beyond in that book. I mean there had been some scepticism that the 2026 impairment guide could be challenging to get to 400 basis points in the long run, so are you more confident on delivery there today, than perhaps three, four months ago?\n",
            "Processed question: Good morning, Venkat and Anna, thanks for taking my questions. Two, please. The first, just focusing on the return targets for 2026. I guess at the halfway point for the strategic plan, the bank's doing better than expected. As Venkat, you mentioned, you've beaten in [Global Markets] six quarters in a row and consensus is pretty close to your £30 billion revenue target for next year. But the market is well over £1 billion below your expectations for the Investment Bank. So I wanted to invite you to sort of give us your thinking on that £30 billion guide. Is it still that number because you're not in the habit of refreshing it every quarter? Is it that the cyclical tailwinds in the IB that you've enjoyed so far you think are a bit of a headwind from here? Because if we put in your IB number, if we add that to consensus, you're a 13% RoTE company, not the sort of more than 12% at which we seem to be a little bit stuck.\n",
            "Processed question: Secondly, perhaps just as a follow on, consensus beyond 2026 has got the bank growing revenues by 3% and costs by 2%. I wonder whether just at a footprint level, do you think that makes sense? Are the markets in which you're playing growing that little in the next few years? Thanks very much.\n",
            "Processed question: Can I just ask on the promotional cards, aren’t they booked at effective interest rates, so why would you get a pickup in H2 from them?\n",
            "Processed question: If you could just elaborate on the size of the balances on promotional, how much is rolling and what the [Effective Interest Rate] is?\n",
            "Processed question: There's been sort of one quarter’s growth in the last eight in the UK deposit book, and I presume a couple of years ago that wasn't the plan. So what's not working there, what could be improved to give you the confidence for it to be stable going forward?\n",
            "Processed question: Lastly, how big is the Kensington book now and what is it growing at, and who are you taking share from in that business?\n",
            "Processed question: So firstly, thinking about what's happening in the US. If we get these [Enhanced Supplementary Leverage Ratio (eSLR)] changes and your US competitors have effectively significantly more leverage balance sheet capacity handed to them and they seek to deploy that in markets. How should we think about the effect of that on the IB growth you've seen over the last five, six years, particularly around Financing? Do you see that as a competitive threat and what can you do about it if those peers now have more capacity to muscle in?\n",
            "Processed question: With regards to [Comprehensive Capital Analysis and Review (CCAR)] and the US Consumer business, the reasoning you've given for retaining that business in the past is partly because it helps your CCAR performance. Obviously, CCAR is getting more benign. Do you now feel less compelled to retain that business? What is the argument for keeping that?\n",
            "Processed question: On the UK side of the fence, if I could just invite you to comment on what, if any, outcomes we might expect from the current UK capital framework review that's happening in the background. Are you expecting that to be a positive, and Venkat, I know you've expressed some views contrary to your peers at other banks around the ring-fencing regime. What are your updated thoughts given the changes we may see there?\n",
            "Processed question: Hello both, two questions please. The first is on these additional structural hedge tailwinds that you've alluded to post-2026. The yield on the hedge at the moment is about 2.5%, so if you take your guidance over the next 18 months, we're probably exiting next year at about 3.2%. If you're assuming a reinvestment rate of 3.5%, where's the hedge tailwind coming from into 2027 and beyond? Is it just an averaging effect of the 2026 maturities, or is there something a bit more material going on? That's the first question.\n",
            "Processed question: The second question, at the moment, I understand you want to operate in the upper half of your 13% to 14% [Common] Equity Tier 1 target range. Consensus, though is, it's still a bit above 14% by the end of 2027, so how are you thinking this pans out? I note your comments on Pillar 2A dropping with US IRB and Basel 3.1, and I suppose one for one, that would reduce your equity requirement by maybe 50 basis points. Then you've got this point on the FPC having a look, and maybe something happens there or elsewhere in the capital stack. Into the medium-term, would it be unreasonable to assume that you could operate towards the lower end of the 13% to 14% range? Because obviously the delta there versus consensus would be worth about £4 billion, which is not immaterial. Thank you.\n",
            "Processed question: Understood. I don't suppose any chance you could tell us what the maturity yield on the hedges is in 2027?\n",
            "Processed question: Good morning everybody. Two questions on RWAs and the Investment Bank. I guess the dynamics here in Q2 feel similar to what we saw in Q3 last year, so US dollar depreciation quarter-on-quarter. Last year, you let that feed through to lower headline RWAs. This quarter, that hasn't been the case. So I guess, what's changed there? This quarter, without reinvesting the FX tailwind, you would have obviously seen a step down in RWAs as a percentage of group towards the target. You would have seen the CET1 tailwind, but then you also, I guess, would have missed out on some commercial opportunities I suppose. Being there for clients on the Financing side continues to be an to be an important part of the rankings improvements you flagged so how are you thinking about juggling those priorities given that they may be at the margin a little bit mutually exclusive? Do you feel comfortable saying 56% is peak and it trends down from here?\n",
            "Processed question: Secondly, just a confirmation I think on RWA productivity, there's a tick down in the second quarter, obviously Q1 was quite a high number. Anything you want to call out in the quarter, maybe it's the ICB one-offs quarter-on-quarter, and it feels like that level of RWA productivity is a level that would support the RoTE target for next year. So I just wanted to check that you agree with that. Thank you.\n",
            "Processed question: On the UK I just wanted to come back to the deposit trends. You talked about being disciplined on term deposit pricing against very tough competition. If I look back over a longer period of time, your deposit balance has contracted in four of the five of the last quarters, so perhaps you could just elaborate on how you think about margins versus volumes on that UK deposit book? What it would take for you to re-engage in terms of pricing dynamics more broadly across the space?\n",
            "Processed question: On US Consumer, I wanted to ask about mix shift and what it means for your targets. If I look at your NIM in US Consumer, impressive QoQ improvement, up 30 basis points. At the same time, you're talking about a £50 million additional charge over the next few quarters from Q4 on post-acquisition stage migration from General Motors. Just given that mix shift that you've seen with AA coming out, General Motors coming on, what does it mean for your targets, the $40 billion receivables, the greater than 12% NIM, the 400 basis points cost of risk in that division? And they are now subject to slight change.\n",
            "Processed question: One, again, just to follow up on the product margin, I just want to check what your thinking is in terms of 2026, given there are a few more kind of parts to it, versus 2025. Would you expect a positive contribution then? I guess I’m just thinking that in terms of the broader guide, so there’s the £7.6bn of NII in 2025. There’s two thirds of roughly £1 billion hedge benefit in 2026. So that by itself gets you to kind of the £8.3 billion consensus NII. There's potentially a little bit of volume growth so then the product margin is kind of the delta then?\n",
            "Processed question: And then the second question just on the IB, I mean I think it’s obviously a very strong performance in Markets. Costs were well contained. Just curious how you think about investment into that business and managing that cost piece if revenues continue to be strong.\n",
            "Processed question: Hi Anna, hi Venkat, thank you for taking my question. Just a couple of quick ones. So on the UK, noted that very clearly [you’ve] done £10 billion of organic RWA allocation to the business. I guess there is a little bit of nervousness about the UK macro from here. Certainly there is some nervousness around what the autumn budget might have. So in the case that confidence drops off and maybe activity comes down and you find it more difficult to allocate the remaining RWAs to the UK business, do you have a plan B? Would you do acquisition to top it up and make sure you hit £30 billion? And if that's the case, how would you think about that in the context of the £10 billion distribution?\n",
            "Processed question: Number two, quickly touching on cost. So I think previously you've said that you would expect costs to come down in 2027. I guess it looks like the efficiency savings are coming through as expected, all on track. And if anything, the FX should be a little bit of help as well. So is that still what you would expect maybe closer to £17 billion next year?\n"
          ]
        }
      ]
    },
    {
      "cell_type": "code",
      "source": [
        "# Load data\n",
        "with open(\"qna_data.json\", \"r\", encoding=\"utf-8\") as f:\n",
        "    loaded_qna = json.load(f)\n",
        "\n",
        "# Convert data to dataframe\n",
        "df = pd.DataFrame(loaded_qna)\n",
        "print(df)"
      ],
      "metadata": {
        "colab": {
          "base_uri": "https://localhost:8080/"
        },
        "id": "vSV58ValPP4a",
        "outputId": "71c752fd-cb62-439c-8664-e31c58ee73b5"
      },
      "execution_count": 38,
      "outputs": [
        {
          "output_type": "stream",
          "name": "stdout",
          "text": [
            "                                             question  \\\n",
            "0   Hi, good morning. A couple of questions, pleas...   \n",
            "1   And second, on the Investment Bank, obviously ...   \n",
            "2   The first one was on Barclays UK, I was wonder...   \n",
            "3   The second question was on the US Consumer bus...   \n",
            "4   Good morning, Venkat and Anna, thanks for taki...   \n",
            "5   Secondly, perhaps just as a follow on, consens...   \n",
            "6   Can I just ask on the promotional cards, aren’...   \n",
            "7   If you could just elaborate on the size of the...   \n",
            "8   There's been sort of one quarter’s growth in t...   \n",
            "9   Lastly, how big is the Kensington book now and...   \n",
            "10  So firstly, thinking about what's happening in...   \n",
            "11  With regards to [Comprehensive Capital Analysi...   \n",
            "12  On the UK side of the fence, if I could just i...   \n",
            "13  Hello both, two questions please. The first is...   \n",
            "14  The second question, at the moment, I understa...   \n",
            "15  Understood. I don't suppose any chance you cou...   \n",
            "16  Good morning everybody. Two questions on RWAs ...   \n",
            "17  Secondly, just a confirmation I think on RWA p...   \n",
            "18  On the UK I just wanted to come back to the de...   \n",
            "19  On US Consumer, I wanted to ask about mix shif...   \n",
            "20  One, again, just to follow up on the product m...   \n",
            "21  And then the second question just on the IB, I...   \n",
            "22  Hi Anna, hi Venkat, thank you for taking my qu...   \n",
            "23  Number two, quickly touching on cost. So I thi...   \n",
            "\n",
            "                                               answer  answer_score  \\\n",
            "0   Good morning, Alvaro, thank you very much for ...           0.8   \n",
            "1   Yes. Thanks for the question, Alvaro. On the I...           0.9   \n",
            "2   Thanks, Guy. Why don't I take both of those an...           1.0   \n",
            "3   Let me now come to US Consumer impairment. It'...           0.8   \n",
            "4   Okay, thanks Jason. I'm going to start and the...           0.9   \n",
            "5   The second part comes to the footprint, as you...           0.9   \n",
            "6   I'm not going to go into the details of [Effec...           0.8   \n",
            "7   I'm not going to go into the details of [Effec...           0.2   \n",
            "8   In terms of UK deposits, we're broadly followi...           0.8   \n",
            "9   That's: we're seeing now high loan-to-value mo...           0.5   \n",
            "10  Look, on SLR, we note peer comments. We're con...           0.9   \n",
            "11  On CCAR, Barclays in the US typically has a go...           1.0   \n",
            "12  Yes. Moving to the UK, first of all, I welcome...           1.0   \n",
            "13  Thanks, Jonathan. The comment on the structura...           1.0   \n",
            "14  To your second question, from our perspective,...           0.8   \n",
            "15  Not off the top of my head. The average is abo...           0.2   \n",
            "16  Step back for a minute, the RWAs in the IB hav...           0.8   \n",
            "17  So you're seeing that flow through into the se...           1.0   \n",
            "18  So, look, we had a similar question on deposit...           0.8   \n",
            "19  Just moving to US consumer, we've said a numbe...           0.5   \n",
            "20  Okay. Thank you. I'll take the first and then ...           0.6   \n",
            "21  Yes. Amit when we announced our plan six quart...           0.7   \n",
            "22  Okay. Thank you, Perlie. So we're pleased with...           1.0   \n",
            "23  And then on the second question, actually we s...           0.7   \n",
            "\n",
            "   orientation                  theme  \n",
            "0        Mixed    Capital & Liquidity  \n",
            "1       Future          Profitability  \n",
            "2        Mixed          Profitability  \n",
            "3       Future        Risk management  \n",
            "4       Future          Profitability  \n",
            "5       Future  Strategy & Management  \n",
            "6       Future          Profitability  \n",
            "7         Past    Capital & Liquidity  \n",
            "8        Mixed    Capital & Liquidity  \n",
            "9         Past  Strategy & Management  \n",
            "10       Mixed    Capital & Liquidity  \n",
            "11       Mixed     Regulatory & Legal  \n",
            "12      Future     Regulatory & Legal  \n",
            "13      Future        Risk management  \n",
            "14      Future    Capital & Liquidity  \n",
            "15      Future        Risk management  \n",
            "16       Mixed    Capital & Liquidity  \n",
            "17       Mixed    Capital & Liquidity  \n",
            "18       Mixed    Capital & Liquidity  \n",
            "19       Mixed  Strategy & Management  \n",
            "20      Future          Profitability  \n",
            "21       Mixed  Strategy & Management  \n",
            "22       Mixed     Regulatory & Legal  \n",
            "23      Future          Profitability  \n"
          ]
        }
      ]
    },
    {
      "cell_type": "code",
      "source": [
        "# Save as csv\n",
        "pd.DataFrame(loaded_qna).to_csv(\"qna_data.csv\", index=False, sep=\";\")"
      ],
      "metadata": {
        "id": "JNe5X5G01pZy"
      },
      "execution_count": 39,
      "outputs": []
    }
  ]
}