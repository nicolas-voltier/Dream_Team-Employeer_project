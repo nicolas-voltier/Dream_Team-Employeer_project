{
  "cells": [
    {
      "cell_type": "markdown",
      "id": "24e90f19",
      "metadata": {
        "id": "24e90f19"
      },
      "source": [
        "# RAG Pipeline Evaluation – Final Assignment Notebook"
      ]
    },
    {
      "cell_type": "markdown",
      "id": "b0dbd5bd",
      "metadata": {
        "id": "b0dbd5bd"
      },
      "source": [
        "## Project Context and Pipeline Overview"
      ]
    },
    {
      "cell_type": "markdown",
      "id": "8c70ddf0",
      "metadata": {
        "id": "8c70ddf0"
      },
      "source": [
        "* The Bank of England Employer Project\n",
        "* Role of the RAG Subteam\n",
        "* Comparison with Classical Evaluation Stream\n"
      ]
    },
    {
      "cell_type": "markdown",
      "id": "38653fab",
      "metadata": {
        "id": "38653fab"
      },
      "source": [
        "## Key Components of the Codebase"
      ]
    },
    {
      "cell_type": "markdown",
      "id": "635a4304",
      "metadata": {
        "id": "635a4304"
      },
      "source": [
        "* File structure and responsibilities\n",
        "* Main entry points (`run_chat_app.py`, `streamlit_chat_app.py`)\n",
        "* Core logic (`process_graph.py`, `chatbot_framework.py`)"
      ]
    },
    {
      "cell_type": "markdown",
      "source": [
        "## Neo4j Graph Validation"
      ],
      "metadata": {
        "id": "jA3cjyYPBiJW"
      },
      "id": "jA3cjyYPBiJW"
    },
    {
      "cell_type": "markdown",
      "source": [
        "### Direct Cypher Exploration\n",
        "\n",
        "We manually explored the graph database via the Neo4j Browser to confirm that all expected node types and relationships were present — including Barclays-specific documents.\n",
        "\n",
        "The structure follows this chain:  \n",
        "**CORPUS → DOCUMENT → PAGE → FACT**\n",
        "\n",
        "The following Cypher query confirmed this with all relationships shown:\n",
        "\n",
        "```cypher\n",
        "MATCH (c:CORPUS)-[r1]-(d:DOCUMENT)-[r2]-(p:PAGE)-[r3]-(f:FACT)\n",
        "WHERE c.name CONTAINS \"Barclays\"\n",
        "RETURN c, r1, d, r2, p, r3, f\n",
        "LIMIT 10\n",
        "```\n",
        "\n",
        "### Graph View Output\n",
        "\n",
        "The visual below confirms that the Barclays graph structure is present and complete:\n",
        "\n",
        "![Barclays Graph Structure](images/barclays_graph_structure.png)"
      ],
      "metadata": {
        "id": "aTXVoO8qBlwO"
      },
      "id": "aTXVoO8qBlwO"
    },
    {
      "cell_type": "markdown",
      "id": "1f0ac0b9",
      "metadata": {
        "id": "1f0ac0b9"
      },
      "source": [
        "## Parameter Sensitivity and Defaults"
      ]
    },
    {
      "cell_type": "markdown",
      "id": "a3496d9d",
      "metadata": {
        "id": "a3496d9d"
      },
      "source": [
        "### Threshold and Top-K Parameters\n",
        "\n",
        "The two main tuning parameters in our graph-based retrieval pipeline are:\n",
        "\n",
        "- **threshold** – minimum cosine similarity for a fact to be included.\n",
        "- **top_k** – maximum number of relevant facts to return after filtering.\n",
        "\n",
        "Lowering threshold or increasing top_k retrieves more facts (higher recall), while increasing threshold or lowering top_k filters more aggressively (higher precision).\n",
        "\n",
        "Default values: `threshold = 0.6`, `top_k = 5`\n",
        "\n",
        "| Parameter | Default Value | Defined In        | Description |\n",
        "|-----------|---------------|-------------------|-------------|\n",
        "| threshold | 0.6           | `process_graph.py`   | Argument to `GraphProcessor.query_graph()`; filters facts based on average similarity |\n",
        "| threshold | 0.6           | `ragas_builder.py`   | Passed as a constant when looping over test questions |\n",
        "| top_k     | 5             | `process_graph.py`   | Passed as `limit` to `query_graph()`; limits number of facts shown via `for fact in sorted_facts[:limit]` |\n",
        "| top_k     | 5             | `ragas_builder.py`   | Passed to `query_graph()` to control number of returned facts |"
      ]
    },
    {
      "cell_type": "markdown",
      "id": "ad68e2d9",
      "metadata": {
        "id": "ad68e2d9"
      },
      "source": [
        "### Where They Are Set (Code Snippets)"
      ]
    },
    {
      "cell_type": "markdown",
      "id": "0e86e91f",
      "metadata": {
        "id": "0e86e91f"
      },
      "source": [
        "### Implications for Fact Retrieval and Evaluation"
      ]
    },
    {
      "cell_type": "markdown",
      "id": "1b3ae32a",
      "metadata": {
        "id": "1b3ae32a"
      },
      "source": [
        "## Evaluation Framework"
      ]
    },
    {
      "cell_type": "markdown",
      "id": "3089dcb0",
      "metadata": {
        "id": "3089dcb0"
      },
      "source": [
        "* RAGAS Metrics Overview\n",
        "* Use of `ragas_builder.py` and `ragas_eval.py`\n",
        "* LLM Configuration: `gpt-5-mini` swap\n"
      ]
    },
    {
      "cell_type": "markdown",
      "id": "a6666d52",
      "metadata": {
        "id": "a6666d52"
      },
      "source": [
        "## Neo4j and Retrieval Backend"
      ]
    },
    {
      "cell_type": "markdown",
      "id": "cc8eb135",
      "metadata": {
        "id": "cc8eb135"
      },
      "source": [
        "* Graph Schema and Fact Types\n",
        "* Cypher Query Construction\n",
        "* Test Script: `test_neo4j_connection.py`"
      ]
    },
    {
      "cell_type": "markdown",
      "id": "12d0bbeb",
      "metadata": {
        "id": "12d0bbeb"
      },
      "source": [
        "## Pipeline Execution Flow"
      ]
    },
    {
      "cell_type": "markdown",
      "id": "ec74b209",
      "metadata": {
        "id": "ec74b209"
      },
      "source": [
        "* From User Query to Retrieved Facts\n",
        "* Dynamic Inputs and Static Defaults\n",
        "* Sample Walkthrough (Screenshot + Code Snippet)"
      ]
    },
    {
      "cell_type": "markdown",
      "id": "d000c2b7",
      "metadata": {
        "id": "d000c2b7"
      },
      "source": [
        "## Challenges and Reflections"
      ]
    },
    {
      "cell_type": "markdown",
      "id": "6638fb69",
      "metadata": {
        "id": "6638fb69"
      },
      "source": [
        "* Evaluation Limitations\n",
        "* Data Format / Retrieval Alignment\n",
        "* Future Recommendations"
      ]
    },
    {
      "cell_type": "markdown",
      "id": "413b48ed",
      "metadata": {
        "id": "413b48ed"
      },
      "source": [
        "## Appendix"
      ]
    },
    {
      "cell_type": "markdown",
      "id": "2efb1117",
      "metadata": {
        "id": "2efb1117"
      },
      "source": [
        "* Environment Variables and API Keys\n",
        "* File Version / Git Branch Used\n",
        "* Additional Snippets or Screenshots"
      ]
    }
  ],
  "metadata": {
    "colab": {
      "provenance": [],
      "collapsed_sections": [
        "b0dbd5bd",
        "38653fab",
        "1f0ac0b9",
        "1b3ae32a",
        "a6666d52",
        "12d0bbeb",
        "d000c2b7",
        "413b48ed"
      ]
    },
    "language_info": {
      "name": "python"
    },
    "kernelspec": {
      "name": "python3",
      "display_name": "Python 3"
    }
  },
  "nbformat": 4,
  "nbformat_minor": 5
}