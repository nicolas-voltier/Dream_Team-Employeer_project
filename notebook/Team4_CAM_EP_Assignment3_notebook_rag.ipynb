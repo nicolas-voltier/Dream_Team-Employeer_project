{
  "cells": [
    {
      "cell_type": "markdown",
      "id": "24e90f19",
      "metadata": {
        "id": "24e90f19"
      },
      "source": [
        "# RAG Pipeline Evaluation – Final Assignment Notebook"
      ]
    },
    {
      "cell_type": "markdown",
      "id": "b0dbd5bd",
      "metadata": {
        "id": "b0dbd5bd"
      },
      "source": [
        "## Project Context and Pipeline Overview"
      ]
    },
    {
      "cell_type": "markdown",
      "id": "8c70ddf0",
      "metadata": {
        "id": "8c70ddf0"
      },
      "source": [
        "* The Bank of England Employer Project\n",
        "* Role of the RAG Subteam\n",
        "* Comparison with Classical Evaluation Stream\n"
      ]
    },
    {
      "cell_type": "markdown",
      "id": "38653fab",
      "metadata": {
        "id": "38653fab"
      },
      "source": [
        "## Key Components of the Codebase"
      ]
    },
    {
      "cell_type": "markdown",
      "id": "635a4304",
      "metadata": {
        "id": "635a4304"
      },
      "source": [
        "* File structure and responsibilities\n",
        "* Main entry points (`run_chat_app.py`, `streamlit_chat_app.py`)\n",
        "* Core logic (`process_graph.py`, `chatbot_framework.py`)"
      ]
    },
    {
      "cell_type": "markdown",
      "source": [
        "## Neo4j Graph Validation"
      ],
      "metadata": {
        "id": "jA3cjyYPBiJW"
      },
      "id": "jA3cjyYPBiJW"
    },
    {
      "cell_type": "markdown",
      "source": [
        "### Direct Cypher Exploration\n",
        "\n",
        "We manually explored the graph database via the Neo4j Browser to confirm that all expected node types and relationships were present — including Barclays-specific documents.\n",
        "\n",
        "The structure follows this chain:  \n",
        "**CORPUS → DOCUMENT → PAGE → FACT**\n",
        "\n",
        "The following Cypher query confirmed this with all relationships shown:\n",
        "\n",
        "```cypher\n",
        "MATCH (c:CORPUS)-[r1]-(d:DOCUMENT)-[r2]-(p:PAGE)-[r3]-(f:FACT)\n",
        "WHERE c.name CONTAINS \"Barclays\"\n",
        "RETURN c, r1, d, r2, p, r3, f\n",
        "LIMIT 10\n",
        "```\n",
        "\n",
        "### Graph View Output\n",
        "\n",
        "The visual below confirms that the Barclays graph structure is present and complete:"
      ],
      "metadata": {
        "id": "aTXVoO8qBlwO"
      },
      "id": "aTXVoO8qBlwO"
    },
    {
      "cell_type": "code",
      "source": [
        "from google.colab import files\n",
        "uploaded = files.upload()"
      ],
      "metadata": {
        "colab": {
          "base_uri": "https://localhost:8080/",
          "height": 73
        },
        "collapsed": true,
        "id": "eWHb5WwcMt97",
        "outputId": "e762d28b-46ea-4cbe-bc75-17706dffdffb"
      },
      "id": "eWHb5WwcMt97",
      "execution_count": 1,
      "outputs": [
        {
          "output_type": "display_data",
          "data": {
            "text/plain": [
              "<IPython.core.display.HTML object>"
            ],
            "text/html": [
              "\n",
              "     <input type=\"file\" id=\"files-16cabca4-7ecd-419e-a4eb-9598ea041613\" name=\"files[]\" multiple disabled\n",
              "        style=\"border:none\" />\n",
              "     <output id=\"result-16cabca4-7ecd-419e-a4eb-9598ea041613\">\n",
              "      Upload widget is only available when the cell has been executed in the\n",
              "      current browser session. Please rerun this cell to enable.\n",
              "      </output>\n",
              "      <script>// Copyright 2017 Google LLC\n",
              "//\n",
              "// Licensed under the Apache License, Version 2.0 (the \"License\");\n",
              "// you may not use this file except in compliance with the License.\n",
              "// You may obtain a copy of the License at\n",
              "//\n",
              "//      http://www.apache.org/licenses/LICENSE-2.0\n",
              "//\n",
              "// Unless required by applicable law or agreed to in writing, software\n",
              "// distributed under the License is distributed on an \"AS IS\" BASIS,\n",
              "// WITHOUT WARRANTIES OR CONDITIONS OF ANY KIND, either express or implied.\n",
              "// See the License for the specific language governing permissions and\n",
              "// limitations under the License.\n",
              "\n",
              "/**\n",
              " * @fileoverview Helpers for google.colab Python module.\n",
              " */\n",
              "(function(scope) {\n",
              "function span(text, styleAttributes = {}) {\n",
              "  const element = document.createElement('span');\n",
              "  element.textContent = text;\n",
              "  for (const key of Object.keys(styleAttributes)) {\n",
              "    element.style[key] = styleAttributes[key];\n",
              "  }\n",
              "  return element;\n",
              "}\n",
              "\n",
              "// Max number of bytes which will be uploaded at a time.\n",
              "const MAX_PAYLOAD_SIZE = 100 * 1024;\n",
              "\n",
              "function _uploadFiles(inputId, outputId) {\n",
              "  const steps = uploadFilesStep(inputId, outputId);\n",
              "  const outputElement = document.getElementById(outputId);\n",
              "  // Cache steps on the outputElement to make it available for the next call\n",
              "  // to uploadFilesContinue from Python.\n",
              "  outputElement.steps = steps;\n",
              "\n",
              "  return _uploadFilesContinue(outputId);\n",
              "}\n",
              "\n",
              "// This is roughly an async generator (not supported in the browser yet),\n",
              "// where there are multiple asynchronous steps and the Python side is going\n",
              "// to poll for completion of each step.\n",
              "// This uses a Promise to block the python side on completion of each step,\n",
              "// then passes the result of the previous step as the input to the next step.\n",
              "function _uploadFilesContinue(outputId) {\n",
              "  const outputElement = document.getElementById(outputId);\n",
              "  const steps = outputElement.steps;\n",
              "\n",
              "  const next = steps.next(outputElement.lastPromiseValue);\n",
              "  return Promise.resolve(next.value.promise).then((value) => {\n",
              "    // Cache the last promise value to make it available to the next\n",
              "    // step of the generator.\n",
              "    outputElement.lastPromiseValue = value;\n",
              "    return next.value.response;\n",
              "  });\n",
              "}\n",
              "\n",
              "/**\n",
              " * Generator function which is called between each async step of the upload\n",
              " * process.\n",
              " * @param {string} inputId Element ID of the input file picker element.\n",
              " * @param {string} outputId Element ID of the output display.\n",
              " * @return {!Iterable<!Object>} Iterable of next steps.\n",
              " */\n",
              "function* uploadFilesStep(inputId, outputId) {\n",
              "  const inputElement = document.getElementById(inputId);\n",
              "  inputElement.disabled = false;\n",
              "\n",
              "  const outputElement = document.getElementById(outputId);\n",
              "  outputElement.innerHTML = '';\n",
              "\n",
              "  const pickedPromise = new Promise((resolve) => {\n",
              "    inputElement.addEventListener('change', (e) => {\n",
              "      resolve(e.target.files);\n",
              "    });\n",
              "  });\n",
              "\n",
              "  const cancel = document.createElement('button');\n",
              "  inputElement.parentElement.appendChild(cancel);\n",
              "  cancel.textContent = 'Cancel upload';\n",
              "  const cancelPromise = new Promise((resolve) => {\n",
              "    cancel.onclick = () => {\n",
              "      resolve(null);\n",
              "    };\n",
              "  });\n",
              "\n",
              "  // Wait for the user to pick the files.\n",
              "  const files = yield {\n",
              "    promise: Promise.race([pickedPromise, cancelPromise]),\n",
              "    response: {\n",
              "      action: 'starting',\n",
              "    }\n",
              "  };\n",
              "\n",
              "  cancel.remove();\n",
              "\n",
              "  // Disable the input element since further picks are not allowed.\n",
              "  inputElement.disabled = true;\n",
              "\n",
              "  if (!files) {\n",
              "    return {\n",
              "      response: {\n",
              "        action: 'complete',\n",
              "      }\n",
              "    };\n",
              "  }\n",
              "\n",
              "  for (const file of files) {\n",
              "    const li = document.createElement('li');\n",
              "    li.append(span(file.name, {fontWeight: 'bold'}));\n",
              "    li.append(span(\n",
              "        `(${file.type || 'n/a'}) - ${file.size} bytes, ` +\n",
              "        `last modified: ${\n",
              "            file.lastModifiedDate ? file.lastModifiedDate.toLocaleDateString() :\n",
              "                                    'n/a'} - `));\n",
              "    const percent = span('0% done');\n",
              "    li.appendChild(percent);\n",
              "\n",
              "    outputElement.appendChild(li);\n",
              "\n",
              "    const fileDataPromise = new Promise((resolve) => {\n",
              "      const reader = new FileReader();\n",
              "      reader.onload = (e) => {\n",
              "        resolve(e.target.result);\n",
              "      };\n",
              "      reader.readAsArrayBuffer(file);\n",
              "    });\n",
              "    // Wait for the data to be ready.\n",
              "    let fileData = yield {\n",
              "      promise: fileDataPromise,\n",
              "      response: {\n",
              "        action: 'continue',\n",
              "      }\n",
              "    };\n",
              "\n",
              "    // Use a chunked sending to avoid message size limits. See b/62115660.\n",
              "    let position = 0;\n",
              "    do {\n",
              "      const length = Math.min(fileData.byteLength - position, MAX_PAYLOAD_SIZE);\n",
              "      const chunk = new Uint8Array(fileData, position, length);\n",
              "      position += length;\n",
              "\n",
              "      const base64 = btoa(String.fromCharCode.apply(null, chunk));\n",
              "      yield {\n",
              "        response: {\n",
              "          action: 'append',\n",
              "          file: file.name,\n",
              "          data: base64,\n",
              "        },\n",
              "      };\n",
              "\n",
              "      let percentDone = fileData.byteLength === 0 ?\n",
              "          100 :\n",
              "          Math.round((position / fileData.byteLength) * 100);\n",
              "      percent.textContent = `${percentDone}% done`;\n",
              "\n",
              "    } while (position < fileData.byteLength);\n",
              "  }\n",
              "\n",
              "  // All done.\n",
              "  yield {\n",
              "    response: {\n",
              "      action: 'complete',\n",
              "    }\n",
              "  };\n",
              "}\n",
              "\n",
              "scope.google = scope.google || {};\n",
              "scope.google.colab = scope.google.colab || {};\n",
              "scope.google.colab._files = {\n",
              "  _uploadFiles,\n",
              "  _uploadFilesContinue,\n",
              "};\n",
              "})(self);\n",
              "</script> "
            ]
          },
          "metadata": {}
        },
        {
          "output_type": "stream",
          "name": "stdout",
          "text": [
            "Saving barclays_graph_structure.png to barclays_graph_structure.png\n"
          ]
        }
      ]
    },
    {
      "cell_type": "code",
      "source": [
        "from IPython.display import Image, display\n",
        "display(Image(filename='barclays_graph_structure.png'))"
      ],
      "metadata": {
        "colab": {
          "base_uri": "https://localhost:8080/",
          "height": 515
        },
        "id": "OuIu0trJM4W7",
        "outputId": "348549e5-e7e5-407f-fd1f-11256725e9ef"
      },
      "id": "OuIu0trJM4W7",
      "execution_count": 2,
      "outputs": [
        {
          "output_type": "display_data",
          "data": {
            "image/png": "[encoded data removed]",
            "text/plain": [
              "<IPython.core.display.Image object>"
            ]
          },
          "metadata": {}
        }
      ]
    },
    {
      "cell_type": "markdown",
      "id": "1f0ac0b9",
      "metadata": {
        "id": "1f0ac0b9"
      },
      "source": [
        "## Parameter Sensitivity and Defaults"
      ]
    },
    {
      "cell_type": "markdown",
      "id": "a3496d9d",
      "metadata": {
        "id": "a3496d9d"
      },
      "source": [
        "### Threshold and Top-K Parameters\n",
        "\n",
        "The two main tuning parameters in our graph-based retrieval pipeline are:\n",
        "\n",
        "- **threshold** – minimum cosine similarity for a fact to be included.\n",
        "- **top_k** – maximum number of relevant facts to return after filtering.\n",
        "\n",
        "Lowering threshold or increasing top_k retrieves more facts (higher recall), while increasing threshold or lowering top_k filters more aggressively (higher precision).\n",
        "\n",
        "Default values: `threshold = 0.6`, `top_k = 5`\n",
        "\n",
        "| Parameter | Default Value | Defined In        | Description |\n",
        "|-----------|---------------|-------------------|-------------|\n",
        "| threshold | 0.6           | `process_graph.py`   | Argument to `GraphProcessor.query_graph()`; filters facts based on average similarity |\n",
        "| threshold | 0.6           | `ragas_builder.py`   | Passed as a constant when looping over test questions |\n",
        "| top_k     | 5             | `process_graph.py`   | Passed as `limit` to `query_graph()`; limits number of facts shown via `for fact in sorted_facts[:limit]` |\n",
        "| top_k     | 5             | `ragas_builder.py`   | Passed to `query_graph()` to control number of returned facts |"
      ]
    },
    {
      "cell_type": "markdown",
      "id": "ad68e2d9",
      "metadata": {
        "id": "ad68e2d9"
      },
      "source": [
        "### Where They Are Set (Code Snippets)"
      ]
    },
    {
      "cell_type": "markdown",
      "id": "0e86e91f",
      "metadata": {
        "id": "0e86e91f"
      },
      "source": [
        "### Implications for Fact Retrieval and Evaluation"
      ]
    },
    {
      "cell_type": "markdown",
      "id": "1b3ae32a",
      "metadata": {
        "id": "1b3ae32a"
      },
      "source": [
        "## Evaluation Framework"
      ]
    },
    {
      "cell_type": "markdown",
      "id": "3089dcb0",
      "metadata": {
        "id": "3089dcb0"
      },
      "source": [
        "* RAGAS Metrics Overview\n",
        "* Use of `ragas_builder.py` and `ragas_eval.py`\n",
        "* LLM Configuration: `gpt-5-mini` swap\n"
      ]
    },
    {
      "cell_type": "markdown",
      "id": "a6666d52",
      "metadata": {
        "id": "a6666d52"
      },
      "source": [
        "## Neo4j and Retrieval Backend"
      ]
    },
    {
      "cell_type": "markdown",
      "id": "cc8eb135",
      "metadata": {
        "id": "cc8eb135"
      },
      "source": [
        "* Graph Schema and Fact Types\n",
        "* Cypher Query Construction\n",
        "* Test Script: `test_neo4j_connection.py`"
      ]
    },
    {
      "cell_type": "markdown",
      "id": "12d0bbeb",
      "metadata": {
        "id": "12d0bbeb"
      },
      "source": [
        "## Pipeline Execution Flow"
      ]
    },
    {
      "cell_type": "markdown",
      "id": "ec74b209",
      "metadata": {
        "id": "ec74b209"
      },
      "source": [
        "* From User Query to Retrieved Facts\n",
        "* Dynamic Inputs and Static Defaults\n",
        "* Sample Walkthrough (Screenshot + Code Snippet)"
      ]
    },
    {
      "cell_type": "markdown",
      "id": "d000c2b7",
      "metadata": {
        "id": "d000c2b7"
      },
      "source": [
        "## Challenges and Reflections"
      ]
    },
    {
      "cell_type": "markdown",
      "id": "6638fb69",
      "metadata": {
        "id": "6638fb69"
      },
      "source": [
        "* Evaluation Limitations\n",
        "* Data Format / Retrieval Alignment\n",
        "* Future Recommendations"
      ]
    },
    {
      "cell_type": "markdown",
      "id": "413b48ed",
      "metadata": {
        "id": "413b48ed"
      },
      "source": [
        "## Appendix"
      ]
    },
    {
      "cell_type": "markdown",
      "id": "2efb1117",
      "metadata": {
        "id": "2efb1117"
      },
      "source": [
        "* Environment Variables and API Keys\n",
        "* File Version / Git Branch Used\n",
        "* Additional Snippets or Screenshots"
      ]
    }
  ],
  "metadata": {
    "colab": {
      "provenance": [],
      "collapsed_sections": [
        "b0dbd5bd",
        "38653fab",
        "1f0ac0b9",
        "1b3ae32a",
        "a6666d52",
        "12d0bbeb",
        "d000c2b7",
        "413b48ed"
      ]
    },
    "language_info": {
      "name": "python"
    },
    "kernelspec": {
      "name": "python3",
      "display_name": "Python 3"
    }
  },
  "nbformat": 4,
  "nbformat_minor": 5
}